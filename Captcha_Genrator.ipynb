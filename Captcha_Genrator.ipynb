{
  "nbformat": 4,
  "nbformat_minor": 0,
  "metadata": {
    "colab": {
      "name": "Captcha Genrator.ipynb",
      "provenance": [],
      "authorship_tag": "ABX9TyM+h1ImSwryZATvf2F3pPQA",
      "include_colab_link": true
    },
    "kernelspec": {
      "name": "python3",
      "display_name": "Python 3"
    },
    "language_info": {
      "name": "python"
    }
  },
  "cells": [
    {
      "cell_type": "markdown",
      "metadata": {
        "id": "view-in-github",
        "colab_type": "text"
      },
      "source": [
        "<a href=\"https://colab.research.google.com/github/nik463/nik463/blob/main/Captcha_Genrator.ipynb\" target=\"_parent\"><img src=\"https://colab.research.google.com/assets/colab-badge.svg\" alt=\"Open In Colab\"/></a>"
      ]
    },
    {
      "cell_type": "code",
      "metadata": {
        "id": "D1HVJvbOyVkV"
      },
      "source": [
        "#imporrt librairies"
      ],
      "execution_count": null,
      "outputs": []
    },
    {
      "cell_type": "code",
      "metadata": {
        "id": "4XzPxbgWyhCb"
      },
      "source": [
        "from captcha.image import ImageCaptcha"
      ],
      "execution_count": 3,
      "outputs": []
    },
    {
      "cell_type": "code",
      "metadata": {
        "colab": {
          "base_uri": "https://localhost:8080/"
        },
        "id": "5mne-Tp9yohL",
        "outputId": "2f5c1ad7-643a-42fa-e5a2-a1ba9521cff9"
      },
      "source": [
        "pip install captcha"
      ],
      "execution_count": 2,
      "outputs": [
        {
          "output_type": "stream",
          "text": [
            "Collecting captcha\n",
            "  Downloading captcha-0.3-py3-none-any.whl (101 kB)\n",
            "\u001b[?25l\r\u001b[K     |███▎                            | 10 kB 20.9 MB/s eta 0:00:01\r\u001b[K     |██████▌                         | 20 kB 10.4 MB/s eta 0:00:01\r\u001b[K     |█████████▊                      | 30 kB 8.4 MB/s eta 0:00:01\r\u001b[K     |█████████████                   | 40 kB 7.5 MB/s eta 0:00:01\r\u001b[K     |████████████████▏               | 51 kB 4.0 MB/s eta 0:00:01\r\u001b[K     |███████████████████▍            | 61 kB 4.2 MB/s eta 0:00:01\r\u001b[K     |██████████████████████▋         | 71 kB 4.4 MB/s eta 0:00:01\r\u001b[K     |█████████████████████████▉      | 81 kB 5.0 MB/s eta 0:00:01\r\u001b[K     |█████████████████████████████   | 92 kB 3.7 MB/s eta 0:00:01\r\u001b[K     |████████████████████████████████| 101 kB 2.9 MB/s \n",
            "\u001b[?25hRequirement already satisfied: Pillow in /usr/local/lib/python3.7/dist-packages (from captcha) (7.1.2)\n",
            "Installing collected packages: captcha\n",
            "Successfully installed captcha-0.3\n"
          ],
          "name": "stdout"
        }
      ]
    },
    {
      "cell_type": "code",
      "metadata": {
        "id": "DdWBAT_GzGG3"
      },
      "source": [
        "#create an image instance of the given size"
      ],
      "execution_count": 4,
      "outputs": []
    },
    {
      "cell_type": "code",
      "metadata": {
        "id": "Nv9juFnSzaMP"
      },
      "source": [
        "image = ImageCaptcha(width =200, height = 90)"
      ],
      "execution_count": 5,
      "outputs": []
    },
    {
      "cell_type": "code",
      "metadata": {
        "id": "4fm4hXxu0C4w"
      },
      "source": [
        "#image captcha text"
      ],
      "execution_count": 7,
      "outputs": []
    },
    {
      "cell_type": "code",
      "metadata": {
        "id": "l0QAvWkQzmYl"
      },
      "source": [
        "captcha_text = 'Nikcaptcha'"
      ],
      "execution_count": 8,
      "outputs": []
    },
    {
      "cell_type": "code",
      "metadata": {
        "id": "rH3bQipi0Bkt"
      },
      "source": [
        "data = image.generate(captcha_text)"
      ],
      "execution_count": 9,
      "outputs": []
    },
    {
      "cell_type": "code",
      "metadata": {
        "id": "Uhz0auWN0Rdn"
      },
      "source": [
        "#write and save image"
      ],
      "execution_count": 10,
      "outputs": []
    },
    {
      "cell_type": "code",
      "metadata": {
        "id": "evuIJ-tb0Xa7"
      },
      "source": [
        "image.write(captcha_text,'Nikcaptcha.png')"
      ],
      "execution_count": 11,
      "outputs": []
    },
    {
      "cell_type": "code",
      "metadata": {
        "id": "vWOzSg8j0iAY"
      },
      "source": [
        ""
      ],
      "execution_count": null,
      "outputs": []
    }
  ]
}